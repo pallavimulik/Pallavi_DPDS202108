{
 "cells": [
  {
   "cell_type": "code",
   "execution_count": 2,
   "id": "82ae8d48",
   "metadata": {},
   "outputs": [
    {
     "name": "stdout",
     "output_type": "stream",
     "text": [
      "My First program\n"
     ]
    }
   ],
   "source": [
    "print(\"My First program\")"
   ]
  },
  {
   "cell_type": "code",
   "execution_count": null,
   "id": "a4ed9ae3",
   "metadata": {},
   "outputs": [],
   "source": []
  },
  {
   "cell_type": "code",
   "execution_count": null,
   "id": "ee0d15d7",
   "metadata": {},
   "outputs": [],
   "source": []
  },
  {
   "cell_type": "markdown",
   "id": "51e2a274",
   "metadata": {},
   "source": [
    "<H1>This is my first notebook tutorial</H1>\n",
    "<H2>This is my first notebook tutorial</H2>\n",
    "<H3>This is my first notebook tutorial</H3>\n",
    "<H4>This is my first notebook tutorial</H4>"
   ]
  },
  {
   "cell_type": "code",
   "execution_count": null,
   "id": "267a2546",
   "metadata": {},
   "outputs": [],
   "source": []
  }
 ],
 "metadata": {
  "kernelspec": {
   "display_name": "Python 3",
   "language": "python",
   "name": "python3"
  },
  "language_info": {
   "codemirror_mode": {
    "name": "ipython",
    "version": 3
   },
   "file_extension": ".py",
   "mimetype": "text/x-python",
   "name": "python",
   "nbconvert_exporter": "python",
   "pygments_lexer": "ipython3",
   "version": "3.8.8"
  }
 },
 "nbformat": 4,
 "nbformat_minor": 5
}
