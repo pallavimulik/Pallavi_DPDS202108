{
 "cells": [
  {
   "cell_type": "code",
   "execution_count": 1,
   "id": "b93fefbc",
   "metadata": {},
   "outputs": [],
   "source": [
    "#importing os module\n",
    "import os"
   ]
  },
  {
   "cell_type": "code",
   "execution_count": 2,
   "id": "c489704e",
   "metadata": {},
   "outputs": [],
   "source": [
    "#get current working directory\n",
    "cwd=os.getcwd()"
   ]
  },
  {
   "cell_type": "code",
   "execution_count": 3,
   "id": "3c6a1564",
   "metadata": {},
   "outputs": [
    {
     "name": "stdout",
     "output_type": "stream",
     "text": [
      "Current Working: C:\\Users\\Hp\\Documents\\GitHub\\Pallavi_DPDS202108\\PythonTutorial\\Notebook\n"
     ]
    }
   ],
   "source": [
    "#printing current working directory\n",
    "print(\"Current Working:\",cwd)"
   ]
  },
  {
   "cell_type": "code",
   "execution_count": 14,
   "id": "f9260a91",
   "metadata": {},
   "outputs": [],
   "source": [
    "os.chdir('C:/Users/Hp/Documents/GitHub/Pallavi_DPDS202108')"
   ]
  },
  {
   "cell_type": "code",
   "execution_count": 15,
   "id": "09a4d497",
   "metadata": {},
   "outputs": [
    {
     "name": "stdout",
     "output_type": "stream",
     "text": [
      "Changed directory: C:\\Users\\Hp\\Documents\\GitHub\\Pallavi_DPDS202108\\PythonTutorial\\Notebook\n"
     ]
    }
   ],
   "source": [
    "print(\"Changed directory:\",cwd)"
   ]
  },
  {
   "cell_type": "code",
   "execution_count": 17,
   "id": "fab9df9c",
   "metadata": {},
   "outputs": [
    {
     "name": "stdout",
     "output_type": "stream",
     "text": [
      "New directory 'My_Directory'created\n"
     ]
    }
   ],
   "source": [
    "#python program for make directory with mkdir()method\n",
    "#directory\n",
    "directory=\"My_Directory\"\n",
    "#parent directory\n",
    "parent_dir=\"C:/Users/Hp/Desktop/DataScience/\"\n",
    "path=os.path.join(parent_dir,directory)\n",
    "#create the directory\n",
    "os.mkdir(path)\n",
    "#print directory\n",
    "print(\"New directory '%s'created\" % directory)"
   ]
  },
  {
   "cell_type": "code",
   "execution_count": 19,
   "id": "0ca135b9",
   "metadata": {},
   "outputs": [
    {
     "name": "stdout",
     "output_type": "stream",
     "text": [
      "Make directories'File_1'\n"
     ]
    }
   ],
   "source": [
    "#python program to make directories with makedirs() method\n",
    "\n",
    "#Leaf directory\n",
    "directory=\"File_1\"\n",
    "\n",
    "#parent directory\n",
    "Par_dir=(\"C:/Users/Hp/Desktop/DataScience/My_Directory\")\n",
    "\n",
    "#path\n",
    "path=os.path.join(Par_dir,directory)\n",
    "\n",
    "#Create directory\n",
    "os.makedirs(path)\n",
    "\n",
    "#print directory\n",
    "print(\"Make directories'%s'\" %directory)"
   ]
  },
  {
   "cell_type": "code",
   "execution_count": 24,
   "id": "156290bd",
   "metadata": {},
   "outputs": [
    {
     "name": "stdout",
     "output_type": "stream",
     "text": [
      "List of directory: ['!qhlogs.doc', '$Recycle.Bin', '$WINDOWS.~BT', '$WinREAgent', 'adobeTemp', 'Documents and Settings', 'hiberfil.sys', 'Intel', 'logs', 'MSOCache', 'pagefile.sys', 'PerfLogs', 'Program Files', 'Program Files (x86)', 'ProgramData', 'Recovery', 'swapfile.sys', 'SWSetup', 'System Volume Information', 'system.sav', 'Users', 'Windows']\n"
     ]
    }
   ],
   "source": [
    "# python program to list directory()\n",
    "\n",
    "path=\"/\"\n",
    "dir_list=os.listdir(path)\n",
    "print(\"List of directory:\",dir_list)"
   ]
  }
 ],
 "metadata": {
  "kernelspec": {
   "display_name": "Python 3",
   "language": "python",
   "name": "python3"
  },
  "language_info": {
   "codemirror_mode": {
    "name": "ipython",
    "version": 3
   },
   "file_extension": ".py",
   "mimetype": "text/x-python",
   "name": "python",
   "nbconvert_exporter": "python",
   "pygments_lexer": "ipython3",
   "version": "3.8.8"
  }
 },
 "nbformat": 4,
 "nbformat_minor": 5
}
