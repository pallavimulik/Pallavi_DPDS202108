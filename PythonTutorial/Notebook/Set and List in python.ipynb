{
 "cells": [
  {
   "cell_type": "code",
   "execution_count": 4,
   "id": "ec69666c",
   "metadata": {},
   "outputs": [
    {
     "name": "stdout",
     "output_type": "stream",
     "text": [
      "[]\n"
     ]
    }
   ],
   "source": [
    "Mylist=[]\n",
    "print(Mylist)"
   ]
  },
  {
   "cell_type": "code",
   "execution_count": 7,
   "id": "cfbf7e61",
   "metadata": {},
   "outputs": [
    {
     "name": "stdout",
     "output_type": "stream",
     "text": [
      "[1, 2, 3, 4, 5, 6, 7]\n"
     ]
    }
   ],
   "source": [
    "n_list=[1,2,3,4,5,6,7]\n",
    "print(n_list)"
   ]
  },
  {
   "cell_type": "code",
   "execution_count": 10,
   "id": "fd152b34",
   "metadata": {},
   "outputs": [
    {
     "name": "stdout",
     "output_type": "stream",
     "text": [
      "['Blue', 'Red', 'Black', 'Yellow']\n"
     ]
    }
   ],
   "source": [
    "Charlist=[\"Blue\",\"Red\",\"Black\",\"Yellow\"]\n",
    "print(Charlist)"
   ]
  },
  {
   "cell_type": "code",
   "execution_count": 12,
   "id": "f1953e48",
   "metadata": {},
   "outputs": [
    {
     "name": "stdout",
     "output_type": "stream",
     "text": [
      "[1, 2, 3, 4, 5, 6, 7, 'Blue', 'Red', 'Black', 'Yellow']\n"
     ]
    }
   ],
   "source": [
    "Concate=n_list + Charlist\n",
    "print(Concate)"
   ]
  },
  {
   "cell_type": "code",
   "execution_count": 14,
   "id": "c90ceded",
   "metadata": {},
   "outputs": [
    {
     "data": {
      "text/plain": [
       "11"
      ]
     },
     "execution_count": 14,
     "metadata": {},
     "output_type": "execute_result"
    }
   ],
   "source": [
    "len(Concate)"
   ]
  },
  {
   "cell_type": "code",
   "execution_count": 16,
   "id": "9ac5e721",
   "metadata": {},
   "outputs": [
    {
     "data": {
      "text/plain": [
       "5"
      ]
     },
     "execution_count": 16,
     "metadata": {},
     "output_type": "execute_result"
    }
   ],
   "source": [
    "Concate[4]"
   ]
  },
  {
   "cell_type": "code",
   "execution_count": 20,
   "id": "3ebc0753",
   "metadata": {},
   "outputs": [
    {
     "data": {
      "text/plain": [
       "[1, 2, 3, 4, 5, 6]"
      ]
     },
     "execution_count": 20,
     "metadata": {},
     "output_type": "execute_result"
    }
   ],
   "source": [
    "Concate[0:6]"
   ]
  },
  {
   "cell_type": "code",
   "execution_count": 23,
   "id": "a08e5f7a",
   "metadata": {},
   "outputs": [
    {
     "name": "stdout",
     "output_type": "stream",
     "text": [
      "[1, 2, 3, 4, 5, 6, 7, 'Blue', 'Red', 'Black', 'Yellow', 9, 9, 9]\n"
     ]
    }
   ],
   "source": [
    "Concate.append(9)\n",
    "print(Concate)"
   ]
  },
  {
   "cell_type": "code",
   "execution_count": 25,
   "id": "2407e521",
   "metadata": {},
   "outputs": [
    {
     "name": "stdout",
     "output_type": "stream",
     "text": [
      "[1, 2, 3, 4, 5, 6, 7, 'Blue', 'Red', 'Green', 'Green', 'Black', 'Yellow', 9, 9, 9]\n"
     ]
    }
   ],
   "source": [
    "Concate.insert(9,\"Green\")\n",
    "print(Concate)"
   ]
  },
  {
   "cell_type": "code",
   "execution_count": 27,
   "id": "ee591528",
   "metadata": {},
   "outputs": [
    {
     "name": "stdout",
     "output_type": "stream",
     "text": [
      "[1, 2, 3, 4, 5, 6, 7, 'Blue', 'Red', 'Green', 'Green', 'Black', 'Yellow', 9, 9, 9, 'Orange', 'Pink', 10, 11, 'Orange', 'Pink', 10, 11]\n"
     ]
    }
   ],
   "source": [
    "Concate.extend([\"Orange\",\"Pink\",10,11])\n",
    "print(Concate)"
   ]
  },
  {
   "cell_type": "code",
   "execution_count": null,
   "id": "a66cf6da",
   "metadata": {},
   "outputs": [],
   "source": []
  }
 ],
 "metadata": {
  "kernelspec": {
   "display_name": "Python 3",
   "language": "python",
   "name": "python3"
  },
  "language_info": {
   "codemirror_mode": {
    "name": "ipython",
    "version": 3
   },
   "file_extension": ".py",
   "mimetype": "text/x-python",
   "name": "python",
   "nbconvert_exporter": "python",
   "pygments_lexer": "ipython3",
   "version": "3.8.8"
  }
 },
 "nbformat": 4,
 "nbformat_minor": 5
}
