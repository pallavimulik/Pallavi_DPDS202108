{
 "cells": [
  {
   "cell_type": "code",
   "execution_count": 2,
   "id": "902e1c99",
   "metadata": {},
   "outputs": [
    {
     "name": "stdout",
     "output_type": "stream",
     "text": [
      "{'1': 'Suchita', '2': 'Aanant', '3': 'Aanchal', '4': 'suchita'}\n"
     ]
    }
   ],
   "source": [
    "dict1={\"1\":\"Suchita\",\n",
    "       \"2\":\"Aanant\",\n",
    "       \"3\":\"Aanchal\",\n",
    "       \"4\":\"Pallavi\",\n",
    "       \"4\":\"suchita\"\n",
    "      }\n",
    "print(dict1)"
   ]
  }
 ],
 "metadata": {
  "kernelspec": {
   "display_name": "Python 3",
   "language": "python",
   "name": "python3"
  },
  "language_info": {
   "codemirror_mode": {
    "name": "ipython",
    "version": 3
   },
   "file_extension": ".py",
   "mimetype": "text/x-python",
   "name": "python",
   "nbconvert_exporter": "python",
   "pygments_lexer": "ipython3",
   "version": "3.8.8"
  }
 },
 "nbformat": 4,
 "nbformat_minor": 5
}
