{
 "cells": [
  {
   "cell_type": "code",
   "execution_count": 2,
   "id": "902e1c99",
   "metadata": {},
   "outputs": [
    {
     "name": "stdout",
     "output_type": "stream",
     "text": [
      "{'1': 'Suchita', '2': 'Aanant', '3': 'Aanchal', '4': 'suchita'}\n"
     ]
    }
   ],
   "source": [
    "dict1={\"1\":\"Suchita\",\n",
    "       \"2\":\"Aanant\",\n",
    "       \"3\":\"Aanchal\",\n",
    "       \"4\":\"Pallavi\",\n",
    "       \"4\":\"suchita\"\n",
    "      }\n",
    "print(dict1)"
   ]
  },
  {
   "cell_type": "code",
   "execution_count": 4,
   "id": "3115e390",
   "metadata": {},
   "outputs": [
    {
     "name": "stdout",
     "output_type": "stream",
     "text": [
      "3\n"
     ]
    }
   ],
   "source": [
    "#using len() in dictionary\n",
    "dict1={\"brand\":\"Ford\",\n",
    "       \"model\":\"Mustang\",\n",
    "       \"Year\":1976,\n",
    "      }\n",
    "print(len(dict1))"
   ]
  },
  {
   "cell_type": "code",
   "execution_count": 6,
   "id": "a7eb1bd9",
   "metadata": {},
   "outputs": [
    {
     "name": "stdout",
     "output_type": "stream",
     "text": [
      "5\n"
     ]
    }
   ],
   "source": [
    "# len() function in tuple\n",
    "\n",
    "fruits= (\"apple\",\"banana\",\"cherry\",\"Mango\",\"banana\" )\n",
    "print(len(fruits))"
   ]
  },
  {
   "cell_type": "code",
   "execution_count": null,
   "id": "285bf1fa",
   "metadata": {},
   "outputs": [],
   "source": []
  }
 ],
 "metadata": {
  "kernelspec": {
   "display_name": "Python 3",
   "language": "python",
   "name": "python3"
  },
  "language_info": {
   "codemirror_mode": {
    "name": "ipython",
    "version": 3
   },
   "file_extension": ".py",
   "mimetype": "text/x-python",
   "name": "python",
   "nbconvert_exporter": "python",
   "pygments_lexer": "ipython3",
   "version": "3.8.8"
  }
 },
 "nbformat": 4,
 "nbformat_minor": 5
}
