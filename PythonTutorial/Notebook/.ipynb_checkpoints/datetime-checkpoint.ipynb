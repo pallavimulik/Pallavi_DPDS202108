{
 "cells": [
  {
   "cell_type": "markdown",
   "id": "a42476d4",
   "metadata": {},
   "source": [
    "### Import Libraries"
   ]
  },
  {
   "cell_type": "code",
   "execution_count": 1,
   "id": "be3fc7d7",
   "metadata": {},
   "outputs": [],
   "source": [
    "import datetime"
   ]
  },
  {
   "cell_type": "markdown",
   "id": "ab217ba0",
   "metadata": {},
   "source": [
    "Define Date in Character format"
   ]
  },
  {
   "cell_type": "code",
   "execution_count": 2,
   "id": "60e93dbd",
   "metadata": {},
   "outputs": [],
   "source": [
    "mydate=\"21-Jan-2021\""
   ]
  },
  {
   "cell_type": "markdown",
   "id": "eb7aebdc",
   "metadata": {},
   "source": [
    "Check for format"
   ]
  },
  {
   "cell_type": "code",
   "execution_count": 3,
   "id": "ae9bdef6",
   "metadata": {},
   "outputs": [
    {
     "data": {
      "text/plain": [
       "str"
      ]
     },
     "execution_count": 3,
     "metadata": {},
     "output_type": "execute_result"
    }
   ],
   "source": [
    "type(mydate)"
   ]
  },
  {
   "cell_type": "markdown",
   "id": "bfe1dd84",
   "metadata": {},
   "source": [
    "### Convert Text to Date format"
   ]
  },
  {
   "cell_type": "code",
   "execution_count": 4,
   "id": "e8d23f8e",
   "metadata": {},
   "outputs": [],
   "source": [
    "mydate=datetime.datetime.strptime(mydate,'%d-%b-%Y')"
   ]
  },
  {
   "cell_type": "code",
   "execution_count": 5,
   "id": "b2bff0e4",
   "metadata": {},
   "outputs": [
    {
     "data": {
      "text/plain": [
       "datetime.datetime"
      ]
     },
     "execution_count": 5,
     "metadata": {},
     "output_type": "execute_result"
    }
   ],
   "source": [
    "type(mydate)"
   ]
  },
  {
   "cell_type": "code",
   "execution_count": 6,
   "id": "c9fc6dfe",
   "metadata": {},
   "outputs": [
    {
     "data": {
      "text/plain": [
       "datetime.datetime(2021, 1, 21, 0, 0)"
      ]
     },
     "execution_count": 6,
     "metadata": {},
     "output_type": "execute_result"
    }
   ],
   "source": [
    "mydate"
   ]
  },
  {
   "cell_type": "markdown",
   "id": "a28b07b8",
   "metadata": {},
   "source": [
    "### Extract date from timestamp"
   ]
  },
  {
   "cell_type": "code",
   "execution_count": 7,
   "id": "c47dd9a6",
   "metadata": {},
   "outputs": [
    {
     "data": {
      "text/plain": [
       "datetime.date(2021, 1, 21)"
      ]
     },
     "execution_count": 7,
     "metadata": {},
     "output_type": "execute_result"
    }
   ],
   "source": [
    "mydate.date()"
   ]
  },
  {
   "cell_type": "markdown",
   "id": "9a68ec85",
   "metadata": {},
   "source": [
    "### Extract time from timestamp"
   ]
  },
  {
   "cell_type": "code",
   "execution_count": 8,
   "id": "8100f6be",
   "metadata": {},
   "outputs": [
    {
     "data": {
      "text/plain": [
       "datetime.time(0, 0)"
      ]
     },
     "execution_count": 8,
     "metadata": {},
     "output_type": "execute_result"
    }
   ],
   "source": [
    "mydate.time()"
   ]
  },
  {
   "cell_type": "markdown",
   "id": "85d67af3",
   "metadata": {},
   "source": [
    "### Create date from manual entry"
   ]
  },
  {
   "cell_type": "code",
   "execution_count": 11,
   "id": "65f38f61",
   "metadata": {},
   "outputs": [],
   "source": [
    "mydate = datetime.date(2021, 9, 27)"
   ]
  },
  {
   "cell_type": "code",
   "execution_count": 12,
   "id": "d684c8a7",
   "metadata": {},
   "outputs": [
    {
     "data": {
      "text/plain": [
       "datetime.date(2021, 9, 27)"
      ]
     },
     "execution_count": 12,
     "metadata": {},
     "output_type": "execute_result"
    }
   ],
   "source": [
    "mydate"
   ]
  },
  {
   "cell_type": "markdown",
   "id": "ec477ed7",
   "metadata": {},
   "source": [
    "### Crate time using manual entry"
   ]
  },
  {
   "cell_type": "code",
   "execution_count": 13,
   "id": "9cf72e44",
   "metadata": {},
   "outputs": [],
   "source": [
    "mytime = datetime.time(12, 12, 0)"
   ]
  },
  {
   "cell_type": "code",
   "execution_count": 14,
   "id": "8ce7f0d6",
   "metadata": {},
   "outputs": [
    {
     "data": {
      "text/plain": [
       "datetime.time(12, 12)"
      ]
     },
     "execution_count": 14,
     "metadata": {},
     "output_type": "execute_result"
    }
   ],
   "source": [
    "mytime"
   ]
  },
  {
   "cell_type": "markdown",
   "id": "09a79dcd",
   "metadata": {},
   "source": [
    "### Home Work"
   ]
  },
  {
   "cell_type": "code",
   "execution_count": 15,
   "id": "3548fd9c",
   "metadata": {},
   "outputs": [],
   "source": [
    "mytime = '01-January-2021 13:02:22'"
   ]
  },
  {
   "cell_type": "code",
   "execution_count": null,
   "id": "87af5760",
   "metadata": {},
   "outputs": [],
   "source": [
    "mytime = '01-January-2021 1:02:22 PM'"
   ]
  }
 ],
 "metadata": {
  "kernelspec": {
   "display_name": "Python 3",
   "language": "python",
   "name": "python3"
  },
  "language_info": {
   "codemirror_mode": {
    "name": "ipython",
    "version": 3
   },
   "file_extension": ".py",
   "mimetype": "text/x-python",
   "name": "python",
   "nbconvert_exporter": "python",
   "pygments_lexer": "ipython3",
   "version": "3.8.8"
  }
 },
 "nbformat": 4,
 "nbformat_minor": 5
}
