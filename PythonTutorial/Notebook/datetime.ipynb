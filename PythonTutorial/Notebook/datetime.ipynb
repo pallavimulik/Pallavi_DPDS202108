{
 "cells": [
  {
   "cell_type": "markdown",
   "id": "0221c907",
   "metadata": {},
   "source": [
    "### Import Libraries"
   ]
  },
  {
   "cell_type": "code",
   "execution_count": 1,
   "id": "be3fc7d7",
   "metadata": {},
   "outputs": [],
   "source": [
    "import datetime"
   ]
  },
  {
   "cell_type": "markdown",
   "id": "06074264",
   "metadata": {},
   "source": [
    "Define Date in Character format"
   ]
  },
  {
   "cell_type": "code",
   "execution_count": 2,
   "id": "60e93dbd",
   "metadata": {},
   "outputs": [],
   "source": [
    "mydate=\"21-Jan-2021\""
   ]
  },
  {
   "cell_type": "markdown",
   "id": "a1aa1e2c",
   "metadata": {},
   "source": [
    "Check for format"
   ]
  },
  {
   "cell_type": "code",
   "execution_count": 3,
   "id": "ae9bdef6",
   "metadata": {},
   "outputs": [
    {
     "data": {
      "text/plain": [
       "str"
      ]
     },
     "execution_count": 3,
     "metadata": {},
     "output_type": "execute_result"
    }
   ],
   "source": [
    "type(mydate)"
   ]
  },
  {
   "cell_type": "markdown",
   "id": "37b08f86",
   "metadata": {},
   "source": [
    "### Convert Text to Date format"
   ]
  },
  {
   "cell_type": "code",
   "execution_count": 4,
   "id": "e8d23f8e",
   "metadata": {},
   "outputs": [],
   "source": [
    "mydate=datetime.datetime.strptime(mydate,'%d-%b-%Y')"
   ]
  },
  {
   "cell_type": "code",
   "execution_count": 5,
   "id": "b2bff0e4",
   "metadata": {},
   "outputs": [
    {
     "data": {
      "text/plain": [
       "datetime.datetime"
      ]
     },
     "execution_count": 5,
     "metadata": {},
     "output_type": "execute_result"
    }
   ],
   "source": [
    "type(mydate)"
   ]
  },
  {
   "cell_type": "code",
   "execution_count": 6,
   "id": "d49ebe93",
   "metadata": {},
   "outputs": [
    {
     "data": {
      "text/plain": [
       "datetime.datetime(2021, 1, 21, 0, 0)"
      ]
     },
     "execution_count": 6,
     "metadata": {},
     "output_type": "execute_result"
    }
   ],
   "source": [
    "mydate"
   ]
  },
  {
   "cell_type": "markdown",
   "id": "b40b8eec",
   "metadata": {},
   "source": [
    "### Extract date from timestamp"
   ]
  },
  {
   "cell_type": "code",
   "execution_count": 7,
   "id": "401b5e95",
   "metadata": {},
   "outputs": [
    {
     "data": {
      "text/plain": [
       "datetime.date(2021, 1, 21)"
      ]
     },
     "execution_count": 7,
     "metadata": {},
     "output_type": "execute_result"
    }
   ],
   "source": [
    "mydate.date()"
   ]
  },
  {
   "cell_type": "markdown",
   "id": "bd670466",
   "metadata": {},
   "source": [
    "### Extract time from timestamp"
   ]
  },
  {
   "cell_type": "code",
   "execution_count": 8,
   "id": "be8bc664",
   "metadata": {},
   "outputs": [
    {
     "data": {
      "text/plain": [
       "datetime.time(0, 0)"
      ]
     },
     "execution_count": 8,
     "metadata": {},
     "output_type": "execute_result"
    }
   ],
   "source": [
    "mydate.time()"
   ]
  },
  {
   "cell_type": "markdown",
   "id": "d2e394ac",
   "metadata": {},
   "source": [
    "### Create date from manual entry"
   ]
  },
  {
   "cell_type": "code",
   "execution_count": 11,
   "id": "99cb3e05",
   "metadata": {},
   "outputs": [],
   "source": [
    "mydate = datetime.date(2021, 9, 27)"
   ]
  },
  {
   "cell_type": "code",
   "execution_count": 12,
   "id": "edbfb477",
   "metadata": {},
   "outputs": [
    {
     "data": {
      "text/plain": [
       "datetime.date(2021, 9, 27)"
      ]
     },
     "execution_count": 12,
     "metadata": {},
     "output_type": "execute_result"
    }
   ],
   "source": [
    "mydate"
   ]
  },
  {
   "cell_type": "markdown",
   "id": "fd21b7e7",
   "metadata": {},
   "source": [
    "### Crate time using manual entry"
   ]
  },
  {
   "cell_type": "code",
   "execution_count": 13,
   "id": "de5686ce",
   "metadata": {},
   "outputs": [],
   "source": [
    "mytime = datetime.time(12, 12, 0)"
   ]
  },
  {
   "cell_type": "code",
   "execution_count": 14,
   "id": "b1bbad4b",
   "metadata": {},
   "outputs": [
    {
     "data": {
      "text/plain": [
       "datetime.time(12, 12)"
      ]
     },
     "execution_count": 14,
     "metadata": {},
     "output_type": "execute_result"
    }
   ],
   "source": [
    "mytime"
   ]
  },
  {
   "cell_type": "markdown",
   "id": "6bdf66c3",
   "metadata": {},
   "source": [
    "### Home Work"
   ]
  },
  {
   "cell_type": "code",
   "execution_count": 15,
   "id": "26a53427",
   "metadata": {},
   "outputs": [],
   "source": [
    "mytime = '01-January-2021 13:02:22'"
   ]
  },
  {
   "cell_type": "code",
   "execution_count": 16,
   "id": "bd1fcd98",
   "metadata": {},
   "outputs": [],
   "source": [
    "mytime = '01-January-2021 1:02:22 PM'"
   ]
  },
  {
   "cell_type": "markdown",
   "id": "5d3ca8d6",
   "metadata": {},
   "source": [
    "## Convert date into different formats"
   ]
  },
  {
   "cell_type": "code",
   "execution_count": 21,
   "id": "4ec9f91b",
   "metadata": {},
   "outputs": [],
   "source": [
    "mydate = datetime.datetime.now().date()"
   ]
  },
  {
   "cell_type": "code",
   "execution_count": 22,
   "id": "7013d3b7",
   "metadata": {},
   "outputs": [
    {
     "data": {
      "text/plain": [
       "datetime.date(2021, 9, 27)"
      ]
     },
     "execution_count": 22,
     "metadata": {},
     "output_type": "execute_result"
    }
   ],
   "source": [
    "mydate"
   ]
  },
  {
   "cell_type": "code",
   "execution_count": 23,
   "id": "c54fc737",
   "metadata": {},
   "outputs": [
    {
     "data": {
      "text/plain": [
       "'Monday'"
      ]
     },
     "execution_count": 23,
     "metadata": {},
     "output_type": "execute_result"
    }
   ],
   "source": [
    "mydate.strftime('%A')"
   ]
  },
  {
   "cell_type": "code",
   "execution_count": 24,
   "id": "dd67fc26",
   "metadata": {},
   "outputs": [
    {
     "data": {
      "text/plain": [
       "'Mon'"
      ]
     },
     "execution_count": 24,
     "metadata": {},
     "output_type": "execute_result"
    }
   ],
   "source": [
    "mydate.strftime('%a')"
   ]
  },
  {
   "cell_type": "code",
   "execution_count": 25,
   "id": "22eaa438",
   "metadata": {},
   "outputs": [
    {
     "data": {
      "text/plain": [
       "'Sep'"
      ]
     },
     "execution_count": 25,
     "metadata": {},
     "output_type": "execute_result"
    }
   ],
   "source": [
    "mydate.strftime('%b')"
   ]
  },
  {
   "cell_type": "code",
   "execution_count": 26,
   "id": "373f9fbb",
   "metadata": {},
   "outputs": [
    {
     "data": {
      "text/plain": [
       "'September'"
      ]
     },
     "execution_count": 26,
     "metadata": {},
     "output_type": "execute_result"
    }
   ],
   "source": [
    "mydate.strftime('%B')"
   ]
  },
  {
   "cell_type": "code",
   "execution_count": 27,
   "id": "193427b8",
   "metadata": {},
   "outputs": [
    {
     "data": {
      "text/plain": [
       "datetime.date(2021, 9, 27)"
      ]
     },
     "execution_count": 27,
     "metadata": {},
     "output_type": "execute_result"
    }
   ],
   "source": [
    "mydate"
   ]
  },
  {
   "cell_type": "code",
   "execution_count": 28,
   "id": "d4d22deb",
   "metadata": {},
   "outputs": [
    {
     "data": {
      "text/plain": [
       "'September 27, 2021'"
      ]
     },
     "execution_count": 28,
     "metadata": {},
     "output_type": "execute_result"
    }
   ],
   "source": [
    "mydate.strftime('%B %d, %Y')"
   ]
  },
  {
   "cell_type": "code",
   "execution_count": 29,
   "id": "7f03ed6e",
   "metadata": {},
   "outputs": [
    {
     "data": {
      "text/plain": [
       "'27/09/21'"
      ]
     },
     "execution_count": 29,
     "metadata": {},
     "output_type": "execute_result"
    }
   ],
   "source": [
    "mydate.strftime('%d/%m/%y')"
   ]
  },
  {
   "cell_type": "code",
   "execution_count": 30,
   "id": "40fd3eb3",
   "metadata": {},
   "outputs": [
    {
     "data": {
      "text/plain": [
       "'270921'"
      ]
     },
     "execution_count": 30,
     "metadata": {},
     "output_type": "execute_result"
    }
   ],
   "source": [
    "'270921'"
   ]
  },
  {
   "cell_type": "code",
   "execution_count": 31,
   "id": "7125842f",
   "metadata": {},
   "outputs": [
    {
     "data": {
      "text/plain": [
       "'270921'"
      ]
     },
     "execution_count": 31,
     "metadata": {},
     "output_type": "execute_result"
    }
   ],
   "source": [
    "mydate.strftime('%d%m%y')"
   ]
  }
 ],
 "metadata": {
  "kernelspec": {
   "display_name": "Python 3",
   "language": "python",
   "name": "python3"
  },
  "language_info": {
   "codemirror_mode": {
    "name": "ipython",
    "version": 3
   },
   "file_extension": ".py",
   "mimetype": "text/x-python",
   "name": "python",
   "nbconvert_exporter": "python",
   "pygments_lexer": "ipython3",
   "version": "3.8.8"
  }
 },
 "nbformat": 4,
 "nbformat_minor": 5
}
