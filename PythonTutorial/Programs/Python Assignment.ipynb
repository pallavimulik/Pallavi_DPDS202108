{
 "cells": [
  {
   "cell_type": "code",
   "execution_count": 1,
   "metadata": {
    "executionInfo": {
     "elapsed": 13,
     "status": "ok",
     "timestamp": 1632891793564,
     "user": {
      "displayName": "Dr. Anant Prakash Awasthi",
      "photoUrl": "https://lh3.googleusercontent.com/a-/AOh14GgReQNmu1KgtcqE7hdsZfBRlPR1vl3SyUacG_nBHbE=s64",
      "userId": "00676186995527977815"
     },
     "user_tz": -330
    },
    "id": "2_9jXwhMiKkt"
   },
   "outputs": [],
   "source": [
    "# Write a program/function to get numbers which are complete multiples of 5 and 7\n",
    "#define function\n",
    "def multipleNum(n):\n",
    "        if(n%5==0 and n%7==0):\n",
    "            print(\"number is multiple of 5 and 7\")\n",
    "        else:\n",
    "            print(\"number is not multiple of 5 and 7\")"
   ]
  },
  {
   "cell_type": "code",
   "execution_count": 7,
   "metadata": {},
   "outputs": [
    {
     "name": "stdout",
     "output_type": "stream",
     "text": [
      "number is not multiple of 5 and 7\n"
     ]
    }
   ],
   "source": [
    "multipleNum(1)"
   ]
  },
  {
   "cell_type": "code",
   "execution_count": 8,
   "metadata": {
    "id": "bjSMveFX8LKK"
   },
   "outputs": [
    {
     "name": "stdout",
     "output_type": "stream",
     "text": [
      "Original List: [10, 20, 10, 30, 20, 40, 50]\n",
      "List of unique Numbers : [40, 10, 50, 20, 30]\n"
     ]
    }
   ],
   "source": [
    "# Write a program/function to get distinct values in a list\n",
    "my_list=[10,20,10,30,20,40,50]\n",
    "print(\"Original List:\",my_list)\n",
    "my_unique=set(my_list)\n",
    "my_unique1=list(my_unique)\n",
    "print(\"List of unique Numbers :\",my_unique1)"
   ]
  },
  {
   "cell_type": "code",
   "execution_count": 2,
   "metadata": {},
   "outputs": [],
   "source": [
    "# Write a program/function to count number of Sunday in a date range\n",
    "from datetime import  date"
   ]
  },
  {
   "cell_type": "code",
   "execution_count": 4,
   "metadata": {},
   "outputs": [
    {
     "name": "stdout",
     "output_type": "stream",
     "text": [
      "5\n"
     ]
    }
   ],
   "source": [
    "firstdate = date(2017, 1, 1)\n",
    "seconddate= date(2017, 1, 31)\n",
    "count = 0\n",
    "for i in range(firstdate.toordinal(), seconddate.toordinal()):\n",
    "    d = date.fromordinal(i)\n",
    "    if (d.weekday() == 6):\n",
    "        count += 1\n",
    "print(count)"
   ]
  },
  {
   "cell_type": "code",
   "execution_count": 12,
   "metadata": {},
   "outputs": [],
   "source": [
    "from datetime import  date"
   ]
  },
  {
   "cell_type": "code",
   "execution_count": 20,
   "metadata": {
    "id": "5HflFzLR8j38"
   },
   "outputs": [
    {
     "name": "stdout",
     "output_type": "stream",
     "text": [
      "Today: 2021-10-03\n",
      "Last Monday: 2021-09-27\n",
      "Coming Monday: 2021-10-04\n"
     ]
    }
   ],
   "source": [
    "# Write a program/function to get previous and next Monday from a date\n",
    "today = datetime.date.today()\n",
    "last_monday = today - datetime.timedelta(days=today.weekday())\n",
    "coming_monday = today + datetime.timedelta(days=-today.weekday(), weeks=1)\n",
    "print(\"Today:\", today)\n",
    "print(\"Last Monday:\", last_monday)\n",
    "print(\"Coming Monday:\", coming_monday)"
   ]
  }
 ],
 "metadata": {
  "colab": {
   "authorship_tag": "ABX9TyOtfOgaMzyOpvoYsKmlbJNA",
   "collapsed_sections": [],
   "name": "Python Assignment.ipynb",
   "provenance": []
  },
  "kernelspec": {
   "display_name": "Python 3",
   "language": "python",
   "name": "python3"
  },
  "language_info": {
   "codemirror_mode": {
    "name": "ipython",
    "version": 3
   },
   "file_extension": ".py",
   "mimetype": "text/x-python",
   "name": "python",
   "nbconvert_exporter": "python",
   "pygments_lexer": "ipython3",
   "version": "3.8.8"
  }
 },
 "nbformat": 4,
 "nbformat_minor": 1
}
