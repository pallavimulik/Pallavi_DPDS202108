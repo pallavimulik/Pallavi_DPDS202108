{
 "cells": [
  {
   "cell_type": "code",
   "execution_count": 3,
   "id": "06ed2aac",
   "metadata": {},
   "outputs": [],
   "source": [
    "def temp_convert(tmp=0,option=1):\n",
    "    if(option==1):\n",
    "        ferni=(tmp*9/5)+32\n",
    "        print(ferni)\n",
    "    if(option==2):\n",
    "        celcius=(tmp-32)*5/9\n",
    "        print(celcius)"
   ]
  },
  {
   "cell_type": "code",
   "execution_count": 5,
   "id": "fd519812",
   "metadata": {},
   "outputs": [
    {
     "name": "stdout",
     "output_type": "stream",
     "text": [
      "98.6\n"
     ]
    }
   ],
   "source": [
    "temp_convert(37,1)"
   ]
  },
  {
   "cell_type": "code",
   "execution_count": 7,
   "id": "a30a85bc",
   "metadata": {},
   "outputs": [
    {
     "name": "stdout",
     "output_type": "stream",
     "text": [
      "2.7777777777777777\n"
     ]
    }
   ],
   "source": [
    "temp_convert(37,2)"
   ]
  },
  {
   "cell_type": "code",
   "execution_count": 8,
   "id": "9bb6d365",
   "metadata": {},
   "outputs": [
    {
     "name": "stdout",
     "output_type": "stream",
     "text": [
      "37.22222222222222\n"
     ]
    }
   ],
   "source": [
    "temp_convert(99,2)"
   ]
  }
 ],
 "metadata": {
  "kernelspec": {
   "display_name": "Python 3",
   "language": "python",
   "name": "python3"
  },
  "language_info": {
   "codemirror_mode": {
    "name": "ipython",
    "version": 3
   },
   "file_extension": ".py",
   "mimetype": "text/x-python",
   "name": "python",
   "nbconvert_exporter": "python",
   "pygments_lexer": "ipython3",
   "version": "3.8.8"
  }
 },
 "nbformat": 4,
 "nbformat_minor": 5
}
