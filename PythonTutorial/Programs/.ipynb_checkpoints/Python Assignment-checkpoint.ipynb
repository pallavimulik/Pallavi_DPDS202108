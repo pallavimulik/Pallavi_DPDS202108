{
 "cells": [
  {
   "cell_type": "code",
   "execution_count": 1,
   "metadata": {
    "executionInfo": {
     "elapsed": 13,
     "status": "ok",
     "timestamp": 1632891793564,
     "user": {
      "displayName": "Dr. Anant Prakash Awasthi",
      "photoUrl": "https://lh3.googleusercontent.com/a-/AOh14GgReQNmu1KgtcqE7hdsZfBRlPR1vl3SyUacG_nBHbE=s64",
      "userId": "00676186995527977815"
     },
     "user_tz": -330
    },
    "id": "2_9jXwhMiKkt"
   },
   "outputs": [],
   "source": [
    "# Write a program/function to get numbers which are complete multiples of 5 and 7"
   ]
  },
  {
   "cell_type": "code",
   "execution_count": null,
   "metadata": {
    "id": "bjSMveFX8LKK"
   },
   "outputs": [],
   "source": [
    "# Write a program/function to get distinct values in a list"
   ]
  },
  {
   "cell_type": "code",
   "execution_count": 2,
   "metadata": {
    "executionInfo": {
     "elapsed": 381,
     "status": "ok",
     "timestamp": 1632891978213,
     "user": {
      "displayName": "Dr. Anant Prakash Awasthi",
      "photoUrl": "https://lh3.googleusercontent.com/a-/AOh14GgReQNmu1KgtcqE7hdsZfBRlPR1vl3SyUacG_nBHbE=s64",
      "userId": "00676186995527977815"
     },
     "user_tz": -330
    },
    "id": "w2ZVQYn271Fp"
   },
   "outputs": [],
   "source": [
    "# Write a program/function to count number of Sunday in a date range"
   ]
  },
  {
   "cell_type": "code",
   "execution_count": null,
   "metadata": {
    "id": "5HflFzLR8j38"
   },
   "outputs": [],
   "source": [
    "# Write a program/function to get previous and next Monday from a date"
   ]
  }
 ],
 "metadata": {
  "colab": {
   "authorship_tag": "ABX9TyOtfOgaMzyOpvoYsKmlbJNA",
   "collapsed_sections": [],
   "name": "Python Assignment.ipynb",
   "provenance": []
  },
  "kernelspec": {
   "display_name": "Python 3",
   "language": "python",
   "name": "python3"
  },
  "language_info": {
   "codemirror_mode": {
    "name": "ipython",
    "version": 3
   },
   "file_extension": ".py",
   "mimetype": "text/x-python",
   "name": "python",
   "nbconvert_exporter": "python",
   "pygments_lexer": "ipython3",
   "version": "3.8.8"
  }
 },
 "nbformat": 4,
 "nbformat_minor": 1
}
