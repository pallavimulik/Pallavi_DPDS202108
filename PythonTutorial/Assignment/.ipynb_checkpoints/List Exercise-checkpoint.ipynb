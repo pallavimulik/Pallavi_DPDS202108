{
 "cells": [
  {
   "cell_type": "code",
   "execution_count": 2,
   "id": "9261a42c",
   "metadata": {},
   "outputs": [
    {
     "name": "stdout",
     "output_type": "stream",
     "text": [
      "[24, 35, 9, 56, 12]\n"
     ]
    }
   ],
   "source": [
    "#program  to swap first and last element of a list\n",
    "#swap function\n",
    "def swaplist(newlist):\n",
    "    newlist[0],newlist[-1]=newlist[-1],newlist[0]\n",
    "    return newlist\n",
    "newlist = [12, 35, 9, 56, 24]\n",
    "print(swaplist(newlist))"
   ]
  },
  {
   "cell_type": "code",
   "execution_count": 4,
   "id": "c660350c",
   "metadata": {},
   "outputs": [
    {
     "name": "stdout",
     "output_type": "stream",
     "text": [
      "[24, 35, 9, 56, 12]\n"
     ]
    }
   ],
   "source": [
    "# program to swap first and last element of a list\n",
    "# Swap function\n",
    "def swaplist(list):\n",
    "# Storing the first and last element as a pair in a tuple variable get\n",
    "    get = list[-1], list[0]\n",
    "# unpacking those elements\n",
    "    list[0], list[-1] = get\n",
    "    return list\n",
    "# Driver code\n",
    "newList = [12, 35, 9, 56, 24]\n",
    "print(swaplist(newList))"
   ]
  },
  {
   "cell_type": "code",
   "execution_count": 5,
   "id": "3c6ad9b8",
   "metadata": {},
   "outputs": [
    {
     "name": "stdout",
     "output_type": "stream",
     "text": [
      "[24, 35, 9, 56, 12]\n"
     ]
    }
   ],
   "source": [
    "# Python3 program to swap first and last element of a list\n",
    " \n",
    "# Swap function\n",
    "def swapList(newList):\n",
    "    size = len(newList)\n",
    "     \n",
    "    # Swapping\n",
    "    temp = newList[0]                         #12\n",
    "    newList[0] = newList[size - 1]            #24\n",
    "    newList[size - 1] = temp                  #12 in 4th position\n",
    "     \n",
    "    return newList\n",
    "     \n",
    "# Driver code\n",
    "newList = [12, 35, 9, 56, 24]\n",
    " \n",
    "print(swapList(newList))"
   ]
  }
 ],
 "metadata": {
  "kernelspec": {
   "display_name": "Python 3",
   "language": "python",
   "name": "python3"
  },
  "language_info": {
   "codemirror_mode": {
    "name": "ipython",
    "version": 3
   },
   "file_extension": ".py",
   "mimetype": "text/x-python",
   "name": "python",
   "nbconvert_exporter": "python",
   "pygments_lexer": "ipython3",
   "version": "3.8.8"
  }
 },
 "nbformat": 4,
 "nbformat_minor": 5
}
