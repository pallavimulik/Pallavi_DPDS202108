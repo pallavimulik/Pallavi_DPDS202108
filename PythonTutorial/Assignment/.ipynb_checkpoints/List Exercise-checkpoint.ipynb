{
 "cells": [
  {
   "cell_type": "code",
   "execution_count": 2,
   "id": "9261a42c",
   "metadata": {},
   "outputs": [
    {
     "name": "stdout",
     "output_type": "stream",
     "text": [
      "[24, 35, 9, 56, 12]\n"
     ]
    }
   ],
   "source": [
    "#program  to swap first and last element of a list\n",
    "#swap function method 1\n",
    "def swaplist(newlist):\n",
    "    newlist[0],newlist[-1]=newlist[-1],newlist[0]\n",
    "    return newlist\n",
    "newlist = [12, 35, 9, 56, 24]\n",
    "print(swaplist(newlist))"
   ]
  },
  {
   "cell_type": "code",
   "execution_count": 4,
   "id": "c660350c",
   "metadata": {},
   "outputs": [
    {
     "name": "stdout",
     "output_type": "stream",
     "text": [
      "[24, 35, 9, 56, 12]\n"
     ]
    }
   ],
   "source": [
    "# program to swap first and last element of a list\n",
    "# swap function method 2\n",
    "def swaplist(listNew):\n",
    "# Storing the first and last element as a pair in a tuple variable get\n",
    "    get = listNew[-1], listNew[0]\n",
    "# unpacking those elements\n",
    "    listNew[0], listNew[-1] = get\n",
    "    return listNew\n",
    "# Driver code\n",
    "listNew = [12, 35, 9, 56, 24]\n",
    "print(swaplist(listNew))"
   ]
  },
  {
   "cell_type": "code",
   "execution_count": 5,
   "id": "3c6ad9b8",
   "metadata": {},
   "outputs": [
    {
     "name": "stdout",
     "output_type": "stream",
     "text": [
      "[24, 35, 9, 56, 12]\n"
     ]
    }
   ],
   "source": [
    "# Python3 program to swap first and last element of a list\n",
    " \n",
    "# Swap function method 3\n",
    "def swapList(newList):\n",
    "    size = len(newList)\n",
    "     \n",
    "    # Swapping\n",
    "    temp = newList[0]                         #12\n",
    "    newList[0] = newList[size - 1]            #24\n",
    "    newList[size - 1] = temp                  #12 in 4th position\n",
    "     \n",
    "    return newList\n",
    "     \n",
    "# Driver code\n",
    "newList = [12, 35, 9, 56, 24]\n",
    " \n",
    "print(swapList(newList))"
   ]
  },
  {
   "cell_type": "code",
   "execution_count": 14,
   "id": "75ca8416",
   "metadata": {},
   "outputs": [
    {
     "name": "stdout",
     "output_type": "stream",
     "text": [
      "[22, 27, 24, 25, 26, 23]\n"
     ]
    }
   ],
   "source": [
    "#program to swap two elements in a list\n",
    "#Mehtod 1\n",
    "def swapposition(listpos,pos1,pos2):\n",
    "    listpos[pos1],listpos[pos2]=listpos[pos2],listpos[pos1]\n",
    "    return listpos\n",
    "Listpos=[22,23,24,25,26,27]\n",
    "pos1,pos2=2,6\n",
    "print(swapposition(Listpos,pos1-1,pos2-1))"
   ]
  },
  {
   "cell_type": "code",
   "execution_count": 24,
   "id": "db17e305",
   "metadata": {},
   "outputs": [
    {
     "name": "stdout",
     "output_type": "stream",
     "text": [
      "[33, 34, 37, 36, 35]\n"
     ]
    }
   ],
   "source": [
    "#program to swap two elements in a list\n",
    "#Using Inbuilt list.pop() function Method 2\n",
    "def Swapos(listswap,pos1,pos2):\n",
    "    firstel= listswap.pop(pos1)\n",
    "    Secondel=listswap.pop(pos2-1)\n",
    "    listswap.insert(pos1,Secondel)\n",
    "    listswap.insert(pos2,firstel)\n",
    "    return listswap\n",
    "Listswap=[33,34,35,36,37]\n",
    "pos1,pos2=3,5\n",
    "print(Swapos(Listswap,pos1-1,pos2-1))"
   ]
  },
  {
   "cell_type": "code",
   "execution_count": 27,
   "id": "b1f29e68",
   "metadata": {},
   "outputs": [
    {
     "name": "stdout",
     "output_type": "stream",
     "text": [
      "[12, 13, 14, 17, 16, 15, 18]\n"
     ]
    }
   ],
   "source": [
    "#program to swap two elements in a list\n",
    "#Using tuple variable\n",
    "def Swappos(listpos,pos1,pos2):\n",
    "    get=listpos[pos1],listpos[pos2]\n",
    "    listpos[pos2],listpos[pos1]=get\n",
    "    return listpos\n",
    "Listpos=[12,13,14,15,16,17,18]\n",
    "pos1,pos2=4,6\n",
    "print(Swappos(Listpos,pos1-1,pos2-1))"
   ]
  },
  {
   "cell_type": "code",
   "execution_count": 28,
   "id": "fb131277",
   "metadata": {},
   "outputs": [
    {
     "name": "stdout",
     "output_type": "stream",
     "text": [
      "Printing the original list:['my', 'best', 'friend', 'is', 'rima']\n",
      "List after performing character swap:['My', 'bEst', 'friEnd', 'is', 'riMa']\n"
     ]
    }
   ],
   "source": [
    "# Swap elements in String list\n",
    "# using replace()\n",
    "# Initializing list\n",
    "string_list = ['my', 'best', 'friend', 'is', 'rima']\n",
    "print(\"Printing the original list:\" +str(string_list))\n",
    "term=[sub.replace('m','M').replace('e','E')for sub in string_list]\n",
    "print(\"List after performing character swap:\" +str(term))"
   ]
  }
 ],
 "metadata": {
  "kernelspec": {
   "display_name": "Python 3",
   "language": "python",
   "name": "python3"
  },
  "language_info": {
   "codemirror_mode": {
    "name": "ipython",
    "version": 3
   },
   "file_extension": ".py",
   "mimetype": "text/x-python",
   "name": "python",
   "nbconvert_exporter": "python",
   "pygments_lexer": "ipython3",
   "version": "3.8.8"
  }
 },
 "nbformat": 4,
 "nbformat_minor": 5
}
