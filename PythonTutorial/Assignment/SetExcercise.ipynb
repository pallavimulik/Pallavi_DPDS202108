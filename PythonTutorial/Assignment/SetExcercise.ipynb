{
 "cells": [
  {
   "cell_type": "code",
   "execution_count": 3,
   "id": "0eb61760",
   "metadata": {},
   "outputs": [
    {
     "name": "stdout",
     "output_type": "stream",
     "text": [
      "Size of Set 1:728bytes\n",
      "Size of Set 2:216bytes\n",
      "Size of Set 3:216bytes\n"
     ]
    }
   ],
   "source": [
    "#Using getsizeof() function:\n",
    "import sys\n",
    "set1={1,2,3,4,\"Apple\",\"Mira\",\"Rose\"}\n",
    "set2={(1, \"Grade A\"), ( 2, \"Grade B\"), (3, \"Grade C\"), (4, \"Grade D\")}\n",
    "set3={\"raksha\",\"Disha\",\"Monika\"}\n",
    "print(\"Size of Set 1:\" + str(sys.getsizeof(set1)) + \"bytes\")\n",
    "print(\"Size of Set 2:\" + str(sys.getsizeof(set2)) + \"bytes\")\n",
    "print(\"Size of Set 3:\" + str(sys.getsizeof(set3)) + \"bytes\")"
   ]
  },
  {
   "cell_type": "code",
   "execution_count": 6,
   "id": "fc1fa1e4",
   "metadata": {},
   "outputs": [
    {
     "name": "stdout",
     "output_type": "stream",
     "text": [
      "Size of Set 1:712bytes\n",
      "Size of Set 2:200bytes\n",
      "Size of Set 3:200bytes\n"
     ]
    }
   ],
   "source": [
    "#Using inbuilt __sizeof__() method:\n",
    "set1={1,2,3,4,\"Apple\",\"Mira\",\"Rose\"}\n",
    "set2={(1, \"Grade A\"), ( 2, \"Grade B\"), (3, \"Grade C\"), (4, \"Grade D\")}\n",
    "set3={\"raksha\",\"Disha\",\"Monika\"}\n",
    "print(\"Size of Set 1:\" + str(set1.__sizeof__()) + \"bytes\")\n",
    "print(\"Size of Set 2:\" + str(set2.__sizeof__()) + \"bytes\")\n",
    "print(\"Size of Set 3:\" + str(set3.__sizeof__()) + \"bytes\")"
   ]
  },
  {
   "cell_type": "code",
   "execution_count": 8,
   "id": "0faab5da",
   "metadata": {},
   "outputs": [
    {
     "name": "stdout",
     "output_type": "stream",
     "text": [
      "99\n"
     ]
    }
   ],
   "source": [
    "#max() in a Set\n",
    "def MAX(sets):\n",
    "    return (max(sets))\n",
    "# Driver Code\n",
    "sets = set([45,99,53,65,32,76,22])\n",
    "print(MAX(sets))"
   ]
  },
  {
   "cell_type": "code",
   "execution_count": 9,
   "id": "092f61e3",
   "metadata": {},
   "outputs": [
    {
     "name": "stdout",
     "output_type": "stream",
     "text": [
      "22\n"
     ]
    }
   ],
   "source": [
    "#min() in a Set\n",
    "def Min(sets):\n",
    "    return (min(sets))\n",
    "sets=set([45,99,53,65,32,76,22])\n",
    "print(Min(sets))"
   ]
  }
 ],
 "metadata": {
  "kernelspec": {
   "display_name": "Python 3",
   "language": "python",
   "name": "python3"
  },
  "language_info": {
   "codemirror_mode": {
    "name": "ipython",
    "version": 3
   },
   "file_extension": ".py",
   "mimetype": "text/x-python",
   "name": "python",
   "nbconvert_exporter": "python",
   "pygments_lexer": "ipython3",
   "version": "3.8.8"
  }
 },
 "nbformat": 4,
 "nbformat_minor": 5
}
