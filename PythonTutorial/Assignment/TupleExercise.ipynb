{
 "cells": [
  {
   "cell_type": "code",
   "execution_count": 6,
   "id": "7db77c95",
   "metadata": {},
   "outputs": [
    {
     "name": "stdout",
     "output_type": "stream",
     "text": [
      "Size of Tuple 1:96bytes\n",
      "Size of Tuple 2:72bytes\n",
      "Size of Tuple 3:64bytes\n"
     ]
    }
   ],
   "source": [
    "#Tuple:Using getsizeof() function\n",
    "\n",
    "import sys\n",
    "tuple1=(1,2,3,4,\"Apple\",\"Mira\",\"Rose\")\n",
    "tuple2=((1, \"Grade A\"), ( 2, \"Grade B\"), (3, \"Grade C\"), (4, \"Grade D\"))\n",
    "tuple3=(\"raksha\",\"Disha\",\"Monika\")\n",
    "print(\"Size of Tuple 1:\" + str(sys.getsizeof(tuple1)) + \"bytes\")\n",
    "print(\"Size of Tuple 2:\" + str(sys.getsizeof(tuple2)) + \"bytes\")\n",
    "print(\"Size of Tuple 3:\" + str(sys.getsizeof(tuple3)) + \"bytes\")"
   ]
  },
  {
   "cell_type": "code",
   "execution_count": 8,
   "id": "ef70e219",
   "metadata": {},
   "outputs": [
    {
     "name": "stdout",
     "output_type": "stream",
     "text": [
      "Size of Tuple 1:80bytes\n",
      "Size of Tuple 2:56bytes\n",
      "Size of Tuple 3:48bytes\n"
     ]
    }
   ],
   "source": [
    "# Tuple:Using inbuilt __sizeof__() method\n",
    "\n",
    "import sys\n",
    "tuple1=(1,2,3,4,\"Apple\",\"Mira\",\"Rose\")\n",
    "tuple2=((1, \"Grade A\"), ( 2, \"Grade B\"), (3, \"Grade C\"), (4, \"Grade D\"))\n",
    "tuple3=(\"raksha\",\"Disha\",\"Monika\")\n",
    "print(\"Size of Tuple 1:\" + str(tuple1.__sizeof__()) + \"bytes\")\n",
    "print(\"Size of Tuple 2:\" + str(tuple2.__sizeof__()) + \"bytes\")\n",
    "print(\"Size of Tuple 3:\" + str(tuple3.__sizeof__()) + \"bytes\")"
   ]
  },
  {
   "cell_type": "code",
   "execution_count": 11,
   "id": "6d82200c",
   "metadata": {},
   "outputs": [
    {
     "name": "stdout",
     "output_type": "stream",
     "text": [
      "The tuple is : (11, 12, 7, 3, 1, 5)\n",
      "The summation of tuple elements are : 39\n"
     ]
    }
   ],
   "source": [
    "#Tuple: Using list() + sum()\n",
    "#initializing tuple\n",
    "tup = (11,12,7,3,1,5) \n",
    "#printing tuple\n",
    "print(\"The tuple is : \"+str(tup)) \n",
    "Addition = sum(list(tup))\n",
    "print(\"The summation of tuple elements are : \"+str(Addition))"
   ]
  },
  {
   "cell_type": "code",
   "execution_count": 13,
   "id": "df7d8f65",
   "metadata": {},
   "outputs": [
    {
     "name": "stdout",
     "output_type": "stream",
     "text": [
      "The original list is : [1, 2, 3]\n",
      "The container after addition : [1, 2, 3, 4, 5, 6]\n"
     ]
    }
   ],
   "source": [
    "# Using += operator (list + tuple)\n",
    "# initializing list\n",
    "list1=[1,2,3]\n",
    "# printing original list\n",
    "print(\"The original list is : \"+str(list1))\n",
    "# initializing tuple\n",
    "tup=(4,5,6)\n",
    "# Adding Tuple to List and vice - versa\n",
    "# Using += operator (list + tuple)\n",
    "list1 +=tup\n",
    "# printing result\n",
    "print(\"The container after addition : \"+str(list1))"
   ]
  }
 ],
 "metadata": {
  "kernelspec": {
   "display_name": "Python 3",
   "language": "python",
   "name": "python3"
  },
  "language_info": {
   "codemirror_mode": {
    "name": "ipython",
    "version": 3
   },
   "file_extension": ".py",
   "mimetype": "text/x-python",
   "name": "python",
   "nbconvert_exporter": "python",
   "pygments_lexer": "ipython3",
   "version": "3.8.8"
  }
 },
 "nbformat": 4,
 "nbformat_minor": 5
}
