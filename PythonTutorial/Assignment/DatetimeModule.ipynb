{
 "cells": [
  {
   "cell_type": "markdown",
   "id": "4578de85",
   "metadata": {},
   "source": [
    "# Import libraries"
   ]
  },
  {
   "cell_type": "code",
   "execution_count": 2,
   "id": "5a25c54c",
   "metadata": {},
   "outputs": [],
   "source": [
    "import datetime"
   ]
  },
  {
   "cell_type": "markdown",
   "id": "2b487b5f",
   "metadata": {},
   "source": [
    "# Define Date in Character format"
   ]
  },
  {
   "cell_type": "code",
   "execution_count": 4,
   "id": "824947e4",
   "metadata": {},
   "outputs": [],
   "source": [
    "date_char=\"21-Jan-2021\""
   ]
  },
  {
   "cell_type": "markdown",
   "id": "03cf8981",
   "metadata": {},
   "source": [
    "# checking format"
   ]
  },
  {
   "cell_type": "code",
   "execution_count": 6,
   "id": "3cbf8a88",
   "metadata": {},
   "outputs": [
    {
     "data": {
      "text/plain": [
       "str"
      ]
     },
     "execution_count": 6,
     "metadata": {},
     "output_type": "execute_result"
    }
   ],
   "source": [
    "type(date_char)"
   ]
  },
  {
   "cell_type": "markdown",
   "id": "0130c31f",
   "metadata": {},
   "source": [
    "# Convert Text to Date format"
   ]
  },
  {
   "cell_type": "code",
   "execution_count": 7,
   "id": "2e2592fb",
   "metadata": {},
   "outputs": [],
   "source": [
    "date_char=datetime.datetime.strptime(date_char,'%d-%b-%Y')"
   ]
  },
  {
   "cell_type": "code",
   "execution_count": 8,
   "id": "89cd22b4",
   "metadata": {},
   "outputs": [
    {
     "data": {
      "text/plain": [
       "datetime.datetime"
      ]
     },
     "execution_count": 8,
     "metadata": {},
     "output_type": "execute_result"
    }
   ],
   "source": [
    "type(date_char)"
   ]
  },
  {
   "cell_type": "code",
   "execution_count": 10,
   "id": "629b88e4",
   "metadata": {},
   "outputs": [
    {
     "data": {
      "text/plain": [
       "datetime.datetime(2021, 1, 21, 0, 0)"
      ]
     },
     "execution_count": 10,
     "metadata": {},
     "output_type": "execute_result"
    }
   ],
   "source": [
    "date_char"
   ]
  },
  {
   "cell_type": "markdown",
   "id": "ec911cab",
   "metadata": {},
   "source": [
    "# Extract date from timestamp"
   ]
  },
  {
   "cell_type": "code",
   "execution_count": 12,
   "id": "742789da",
   "metadata": {},
   "outputs": [
    {
     "data": {
      "text/plain": [
       "datetime.date(2021, 1, 21)"
      ]
     },
     "execution_count": 12,
     "metadata": {},
     "output_type": "execute_result"
    }
   ],
   "source": [
    "date_char.date()"
   ]
  },
  {
   "cell_type": "markdown",
   "id": "68f2a50f",
   "metadata": {},
   "source": [
    "# Extract time from timestamp"
   ]
  },
  {
   "cell_type": "code",
   "execution_count": 14,
   "id": "aae5ac67",
   "metadata": {},
   "outputs": [
    {
     "data": {
      "text/plain": [
       "datetime.time(0, 0)"
      ]
     },
     "execution_count": 14,
     "metadata": {},
     "output_type": "execute_result"
    }
   ],
   "source": [
    "date_char.time()"
   ]
  },
  {
   "cell_type": "markdown",
   "id": "8b9636d6",
   "metadata": {},
   "source": [
    "# Create date for manual entry"
   ]
  },
  {
   "cell_type": "code",
   "execution_count": 16,
   "id": "c2ead7b8",
   "metadata": {},
   "outputs": [],
   "source": [
    "date_char=datetime.date(2021,9,27)"
   ]
  },
  {
   "cell_type": "code",
   "execution_count": 17,
   "id": "6f3bbfba",
   "metadata": {},
   "outputs": [
    {
     "data": {
      "text/plain": [
       "datetime.date(2021, 9, 27)"
      ]
     },
     "execution_count": 17,
     "metadata": {},
     "output_type": "execute_result"
    }
   ],
   "source": [
    "date_char"
   ]
  },
  {
   "cell_type": "markdown",
   "id": "224392e4",
   "metadata": {},
   "source": [
    "# Create time using manual entry"
   ]
  },
  {
   "cell_type": "code",
   "execution_count": 18,
   "id": "1c05df33",
   "metadata": {},
   "outputs": [],
   "source": [
    "date_char=datetime.time(12,12,0)"
   ]
  },
  {
   "cell_type": "code",
   "execution_count": 19,
   "id": "22c11c70",
   "metadata": {},
   "outputs": [
    {
     "data": {
      "text/plain": [
       "datetime.time(12, 12)"
      ]
     },
     "execution_count": 19,
     "metadata": {},
     "output_type": "execute_result"
    }
   ],
   "source": [
    "date_char"
   ]
  },
  {
   "cell_type": "markdown",
   "id": "a65b3fb7",
   "metadata": {},
   "source": [
    "# Exercise "
   ]
  },
  {
   "cell_type": "code",
   "execution_count": 3,
   "id": "d425a5ac",
   "metadata": {},
   "outputs": [],
   "source": [
    "date_ch = '01-January-2021 13:02:22'"
   ]
  },
  {
   "cell_type": "code",
   "execution_count": 4,
   "id": "8b188c06",
   "metadata": {},
   "outputs": [
    {
     "data": {
      "text/plain": [
       "str"
      ]
     },
     "execution_count": 4,
     "metadata": {},
     "output_type": "execute_result"
    }
   ],
   "source": [
    "type(date_ch)"
   ]
  },
  {
   "cell_type": "code",
   "execution_count": 5,
   "id": "2bb62a28",
   "metadata": {},
   "outputs": [
    {
     "data": {
      "text/plain": [
       "'01-January-2021 13:02:22'"
      ]
     },
     "execution_count": 5,
     "metadata": {},
     "output_type": "execute_result"
    }
   ],
   "source": [
    "date_ch"
   ]
  },
  {
   "cell_type": "code",
   "execution_count": 6,
   "id": "0b619947",
   "metadata": {},
   "outputs": [
    {
     "ename": "ValueError",
     "evalue": "time data '01-January-2021 13:02:22' does not match format '%d-%b-%Y'",
     "output_type": "error",
     "traceback": [
      "\u001b[1;31m---------------------------------------------------------------------------\u001b[0m",
      "\u001b[1;31mValueError\u001b[0m                                Traceback (most recent call last)",
      "\u001b[1;32m<ipython-input-6-ff212f8ac97e>\u001b[0m in \u001b[0;36m<module>\u001b[1;34m\u001b[0m\n\u001b[1;32m----> 1\u001b[1;33m \u001b[0mdate_ch\u001b[0m\u001b[1;33m=\u001b[0m\u001b[0mdatetime\u001b[0m\u001b[1;33m.\u001b[0m\u001b[0mdatetime\u001b[0m\u001b[1;33m.\u001b[0m\u001b[0mstrptime\u001b[0m\u001b[1;33m(\u001b[0m\u001b[0mdate_ch\u001b[0m\u001b[1;33m,\u001b[0m\u001b[1;34m'%d-%b-%Y'\u001b[0m\u001b[1;33m)\u001b[0m\u001b[1;33m\u001b[0m\u001b[1;33m\u001b[0m\u001b[0m\n\u001b[0m",
      "\u001b[1;32m~\\anaconda3\\lib\\_strptime.py\u001b[0m in \u001b[0;36m_strptime_datetime\u001b[1;34m(cls, data_string, format)\u001b[0m\n\u001b[0;32m    566\u001b[0m     \"\"\"Return a class cls instance based on the input string and the\n\u001b[0;32m    567\u001b[0m     format string.\"\"\"\n\u001b[1;32m--> 568\u001b[1;33m     \u001b[0mtt\u001b[0m\u001b[1;33m,\u001b[0m \u001b[0mfraction\u001b[0m\u001b[1;33m,\u001b[0m \u001b[0mgmtoff_fraction\u001b[0m \u001b[1;33m=\u001b[0m \u001b[0m_strptime\u001b[0m\u001b[1;33m(\u001b[0m\u001b[0mdata_string\u001b[0m\u001b[1;33m,\u001b[0m \u001b[0mformat\u001b[0m\u001b[1;33m)\u001b[0m\u001b[1;33m\u001b[0m\u001b[1;33m\u001b[0m\u001b[0m\n\u001b[0m\u001b[0;32m    569\u001b[0m     \u001b[0mtzname\u001b[0m\u001b[1;33m,\u001b[0m \u001b[0mgmtoff\u001b[0m \u001b[1;33m=\u001b[0m \u001b[0mtt\u001b[0m\u001b[1;33m[\u001b[0m\u001b[1;33m-\u001b[0m\u001b[1;36m2\u001b[0m\u001b[1;33m:\u001b[0m\u001b[1;33m]\u001b[0m\u001b[1;33m\u001b[0m\u001b[1;33m\u001b[0m\u001b[0m\n\u001b[0;32m    570\u001b[0m     \u001b[0margs\u001b[0m \u001b[1;33m=\u001b[0m \u001b[0mtt\u001b[0m\u001b[1;33m[\u001b[0m\u001b[1;33m:\u001b[0m\u001b[1;36m6\u001b[0m\u001b[1;33m]\u001b[0m \u001b[1;33m+\u001b[0m \u001b[1;33m(\u001b[0m\u001b[0mfraction\u001b[0m\u001b[1;33m,\u001b[0m\u001b[1;33m)\u001b[0m\u001b[1;33m\u001b[0m\u001b[1;33m\u001b[0m\u001b[0m\n",
      "\u001b[1;32m~\\anaconda3\\lib\\_strptime.py\u001b[0m in \u001b[0;36m_strptime\u001b[1;34m(data_string, format)\u001b[0m\n\u001b[0;32m    347\u001b[0m     \u001b[0mfound\u001b[0m \u001b[1;33m=\u001b[0m \u001b[0mformat_regex\u001b[0m\u001b[1;33m.\u001b[0m\u001b[0mmatch\u001b[0m\u001b[1;33m(\u001b[0m\u001b[0mdata_string\u001b[0m\u001b[1;33m)\u001b[0m\u001b[1;33m\u001b[0m\u001b[1;33m\u001b[0m\u001b[0m\n\u001b[0;32m    348\u001b[0m     \u001b[1;32mif\u001b[0m \u001b[1;32mnot\u001b[0m \u001b[0mfound\u001b[0m\u001b[1;33m:\u001b[0m\u001b[1;33m\u001b[0m\u001b[1;33m\u001b[0m\u001b[0m\n\u001b[1;32m--> 349\u001b[1;33m         raise ValueError(\"time data %r does not match format %r\" %\n\u001b[0m\u001b[0;32m    350\u001b[0m                          (data_string, format))\n\u001b[0;32m    351\u001b[0m     \u001b[1;32mif\u001b[0m \u001b[0mlen\u001b[0m\u001b[1;33m(\u001b[0m\u001b[0mdata_string\u001b[0m\u001b[1;33m)\u001b[0m \u001b[1;33m!=\u001b[0m \u001b[0mfound\u001b[0m\u001b[1;33m.\u001b[0m\u001b[0mend\u001b[0m\u001b[1;33m(\u001b[0m\u001b[1;33m)\u001b[0m\u001b[1;33m:\u001b[0m\u001b[1;33m\u001b[0m\u001b[1;33m\u001b[0m\u001b[0m\n",
      "\u001b[1;31mValueError\u001b[0m: time data '01-January-2021 13:02:22' does not match format '%d-%b-%Y'"
     ]
    }
   ],
   "source": [
    "date_ch=datetime.datetime.strptime(date_ch,'%d-%b-%Y')"
   ]
  },
  {
   "cell_type": "markdown",
   "id": "8f68fd93",
   "metadata": {},
   "source": [
    "# Convert date into different formats"
   ]
  },
  {
   "cell_type": "code",
   "execution_count": 8,
   "id": "57837124",
   "metadata": {},
   "outputs": [],
   "source": [
    "date_char = datetime.datetime.now().date()"
   ]
  },
  {
   "cell_type": "code",
   "execution_count": 10,
   "id": "fe25896b",
   "metadata": {},
   "outputs": [
    {
     "data": {
      "text/plain": [
       "datetime.date(2021, 9, 29)"
      ]
     },
     "execution_count": 10,
     "metadata": {},
     "output_type": "execute_result"
    }
   ],
   "source": [
    "date_char"
   ]
  },
  {
   "cell_type": "code",
   "execution_count": 13,
   "id": "7be0e9f4",
   "metadata": {},
   "outputs": [
    {
     "data": {
      "text/plain": [
       "'Wednesday'"
      ]
     },
     "execution_count": 13,
     "metadata": {},
     "output_type": "execute_result"
    }
   ],
   "source": [
    "date_char.strftime('%A')"
   ]
  },
  {
   "cell_type": "code",
   "execution_count": 15,
   "id": "f2df06c7",
   "metadata": {},
   "outputs": [
    {
     "data": {
      "text/plain": [
       "'Wed'"
      ]
     },
     "execution_count": 15,
     "metadata": {},
     "output_type": "execute_result"
    }
   ],
   "source": [
    "date_char.strftime('%a')"
   ]
  },
  {
   "cell_type": "code",
   "execution_count": 17,
   "id": "fc8f6360",
   "metadata": {},
   "outputs": [
    {
     "data": {
      "text/plain": [
       "'Sep'"
      ]
     },
     "execution_count": 17,
     "metadata": {},
     "output_type": "execute_result"
    }
   ],
   "source": [
    "date_char.strftime('%b')"
   ]
  },
  {
   "cell_type": "code",
   "execution_count": 20,
   "id": "0d50e6da",
   "metadata": {},
   "outputs": [
    {
     "data": {
      "text/plain": [
       "datetime.date(2021, 9, 29)"
      ]
     },
     "execution_count": 20,
     "metadata": {},
     "output_type": "execute_result"
    }
   ],
   "source": [
    "date_char"
   ]
  },
  {
   "cell_type": "code",
   "execution_count": 22,
   "id": "8502622b",
   "metadata": {},
   "outputs": [
    {
     "data": {
      "text/plain": [
       "'September 29,2021'"
      ]
     },
     "execution_count": 22,
     "metadata": {},
     "output_type": "execute_result"
    }
   ],
   "source": [
    "date_char.strftime('%B %d,%Y')"
   ]
  },
  {
   "cell_type": "code",
   "execution_count": 24,
   "id": "72170e0a",
   "metadata": {},
   "outputs": [
    {
     "data": {
      "text/plain": [
       "'29/Sep/2021'"
      ]
     },
     "execution_count": 24,
     "metadata": {},
     "output_type": "execute_result"
    }
   ],
   "source": [
    "date_char.strftime('%d/%b/%Y')"
   ]
  },
  {
   "cell_type": "code",
   "execution_count": 26,
   "id": "fb72bc8c",
   "metadata": {},
   "outputs": [
    {
     "data": {
      "text/plain": [
       "'29092021'"
      ]
     },
     "execution_count": 26,
     "metadata": {},
     "output_type": "execute_result"
    }
   ],
   "source": [
    "date_char.strftime('%d%m%Y')"
   ]
  }
 ],
 "metadata": {
  "kernelspec": {
   "display_name": "Python 3",
   "language": "python",
   "name": "python3"
  },
  "language_info": {
   "codemirror_mode": {
    "name": "ipython",
    "version": 3
   },
   "file_extension": ".py",
   "mimetype": "text/x-python",
   "name": "python",
   "nbconvert_exporter": "python",
   "pygments_lexer": "ipython3",
   "version": "3.8.8"
  }
 },
 "nbformat": 4,
 "nbformat_minor": 5
}
