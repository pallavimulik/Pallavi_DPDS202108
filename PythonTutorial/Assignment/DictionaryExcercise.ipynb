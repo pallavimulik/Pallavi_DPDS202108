{
 "cells": [
  {
   "cell_type": "code",
   "execution_count": 6,
   "id": "1ba93a77",
   "metadata": {},
   "outputs": [
    {
     "name": "stdout",
     "output_type": "stream",
     "text": [
      "Task 1:-\n",
      "\n",
      "Keys are\n",
      "1 2 3 4 5 6 "
     ]
    }
   ],
   "source": [
    "# Displaying the Keys Alphabetically:\n",
    "def dictionairy():     \n",
    " key_value ={}   \n",
    "# Initializing value\n",
    " key_value[2] = 56  \n",
    " key_value[1] = 2\n",
    " key_value[5] = 12\n",
    " key_value[4] = 24\n",
    " key_value[6] = 18     \n",
    " key_value[3] = 323\n",
    " print(\"Task 1:-\\n\")\n",
    " print(\"Keys are\")\n",
    " for i in sorted (key_value.keys()) :\n",
    "     print(i, end = \" \")\n",
    "def main():\n",
    "    # function calling\n",
    "    dictionairy()            \n",
    "# Main function calling\n",
    "if __name__==\"__main__\":     \n",
    "    main()"
   ]
  },
  {
   "cell_type": "code",
   "execution_count": 8,
   "id": "5b7b431c",
   "metadata": {},
   "outputs": [
    {
     "name": "stdout",
     "output_type": "stream",
     "text": [
      "0001\n",
      "Not Found\n"
     ]
    }
   ],
   "source": [
    "#Using get()\n",
    "\n",
    "country_code = {'Mumbai' : '0001',\n",
    "                'Delhi' : '0055',\n",
    "                'Nagpur' : '00079'}\n",
    "# search dictionary for country code of India\n",
    "print(country_code.get('Mumbai', 'Not Found'))\n",
    "# search dictionary for country code of Japan\n",
    "print(country_code.get('Punjab', 'Not Found'))"
   ]
  }
 ],
 "metadata": {
  "kernelspec": {
   "display_name": "Python 3",
   "language": "python",
   "name": "python3"
  },
  "language_info": {
   "codemirror_mode": {
    "name": "ipython",
    "version": 3
   },
   "file_extension": ".py",
   "mimetype": "text/x-python",
   "name": "python",
   "nbconvert_exporter": "python",
   "pygments_lexer": "ipython3",
   "version": "3.8.8"
  }
 },
 "nbformat": 4,
 "nbformat_minor": 5
}
